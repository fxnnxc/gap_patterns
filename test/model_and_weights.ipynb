{
 "cells": [
  {
   "cell_type": "code",
   "execution_count": 1,
   "metadata": {},
   "outputs": [],
   "source": [
    "from torchvision.io import read_image\n",
    "from torchvision.models import resnet50, ResNet50_Weights\n",
    "\n",
    "# img = read_image(\"test/assets/encode_jpeg/grace_hopper_517x606.jpg\")\n",
    "\n",
    "# Step 1: Initialize model with the best available weights\n",
    "weights = ResNet50_Weights.DEFAULT\n",
    "model = resnet50(weights=weights)\n",
    "model.eval()\n",
    "\n",
    "# Step 2: Initialize the inference transforms\n",
    "preprocess = weights.transforms()\n",
    "\n",
    "import torch \n",
    "img = torch.rand(3, 224,224)\n",
    "# Step 3: Apply inference preprocessing transforms\n",
    "batch = preprocess(img).unsqueeze(0)\n",
    "prediction = model(batch).squeeze(0).softmax(0)"
   ]
  },
  {
   "cell_type": "code",
   "execution_count": 4,
   "metadata": {},
   "outputs": [
    {
     "data": {
      "text/plain": [
       "Linear(in_features=2048, out_features=1000, bias=True)"
      ]
     },
     "execution_count": 4,
     "metadata": {},
     "output_type": "execute_result"
    }
   ],
   "source": [
    "model.fc "
   ]
  },
  {
   "cell_type": "code",
   "execution_count": 13,
   "metadata": {},
   "outputs": [
    {
     "name": "stdout",
     "output_type": "stream",
     "text": [
      "Bottleneck\n",
      "Bottleneck\n",
      "Bottleneck\n",
      "Bottleneck\n",
      "Bottleneck\n",
      "Bottleneck\n",
      "Bottleneck\n",
      "Bottleneck\n",
      "Bottleneck\n",
      "Bottleneck\n",
      "Bottleneck\n",
      "Bottleneck\n",
      "Bottleneck\n",
      "Bottleneck\n",
      "Bottleneck\n",
      "Bottleneck\n"
     ]
    },
    {
     "data": {
      "text/plain": [
       "torch.Size([1, 1000])"
      ]
     },
     "execution_count": 13,
     "metadata": {},
     "output_type": "execute_result"
    }
   ],
   "source": [
    "def foward_resnet(resnet, x):\n",
    "    # See note [TorchScript super()]\n",
    "    x = resnet.conv1(x)\n",
    "    x = resnet.bn1(x)\n",
    "    x = resnet.relu(x)\n",
    "    x = resnet.maxpool(x)\n",
    "\n",
    "    x = resnet.layer1(x)\n",
    "    x = resnet.layer2(x)\n",
    "    x = resnet.layer3(x)\n",
    "    x = resnet.layer4(x)\n",
    "\n",
    "    x = resnet.avgpool(x)\n",
    "    x = torch.flatten(x, 1)\n",
    "    x = resnet.fc(x)\n",
    "    return x\n",
    "\n",
    "def foward_resnet(resnet, x):\n",
    "    # See note [TorchScript super()]\n",
    "    x = resnet.conv1(x)\n",
    "    x = resnet.bn1(x)\n",
    "    x = resnet.relu(x)\n",
    "    x = resnet.maxpool(x)\n",
    "\n",
    "    for m in model.layer1:\n",
    "        x = forward_bottleneck(m, x)\n",
    "    for m in model.layer2:\n",
    "        x = forward_bottleneck(m, x)\n",
    "    for m in model.layer3:\n",
    "        x = forward_bottleneck(m, x)\n",
    "    for m in model.layer4:\n",
    "        x= forward_bottleneck(m, x)\n",
    "\n",
    "    x = resnet.avgpool(x)\n",
    "    x = torch.flatten(x, 1)\n",
    "    x = resnet.fc(x)\n",
    "    return x\n",
    "\n",
    "def forward_bottleneck(model, x):\n",
    "    assert model.__class__.__name__ == \"Bottleneck\"\n",
    "    print(model.__class__.__name__ )\n",
    "    identity = x\n",
    "\n",
    "    out = model.conv1(x)\n",
    "    out = model.bn1(out)\n",
    "    out = model.relu(out)\n",
    "    out = model.conv2(out)\n",
    "    out = model.bn2(out)\n",
    "    out = model.relu(out)\n",
    "    out = model.conv3(out)\n",
    "    out = model.bn3(out)\n",
    "    if model.downsample is not None:\n",
    "        identity = model.downsample(x)\n",
    "    out += identity\n",
    "    out = model.relu(out)\n",
    "\n",
    "    return out\n",
    "\n",
    "x = torch.rand(1, 3, 224,224)\n",
    "foward_resnet(model, x).size()"
   ]
  },
  {
   "cell_type": "code",
   "execution_count": null,
   "metadata": {},
   "outputs": [],
   "source": []
  },
  {
   "cell_type": "code",
   "execution_count": 16,
   "metadata": {},
   "outputs": [
    {
     "ename": "AttributeError",
     "evalue": "'super' object has no attribute '__getattr__'",
     "output_type": "error",
     "traceback": [
      "\u001b[0;31m---------------------------------------------------------------------------\u001b[0m",
      "\u001b[0;31mAttributeError\u001b[0m                            Traceback (most recent call last)",
      "\u001b[0;32m/tmp/ipykernel_4383/3659426571.py\u001b[0m in \u001b[0;36m<module>\u001b[0;34m\u001b[0m\n\u001b[0;32m----> 1\u001b[0;31m \u001b[0mweights\u001b[0m\u001b[0;34m.\u001b[0m\u001b[0mstate_dict\u001b[0m\u001b[0;34m(\u001b[0m\u001b[0;34m)\u001b[0m\u001b[0;34m\u001b[0m\u001b[0;34m\u001b[0m\u001b[0m\n\u001b[0m",
      "\u001b[0;32m~/anaconda3/lib/python3.9/site-packages/torchvision/models/_api.py\u001b[0m in \u001b[0;36m__getattr__\u001b[0;34m(self, name)\u001b[0m\n\u001b[1;32m     74\u001b[0m             \u001b[0;32mif\u001b[0m \u001b[0mf\u001b[0m\u001b[0;34m.\u001b[0m\u001b[0mname\u001b[0m \u001b[0;34m==\u001b[0m \u001b[0mname\u001b[0m\u001b[0;34m:\u001b[0m\u001b[0;34m\u001b[0m\u001b[0;34m\u001b[0m\u001b[0m\n\u001b[1;32m     75\u001b[0m                 \u001b[0;32mreturn\u001b[0m \u001b[0mobject\u001b[0m\u001b[0;34m.\u001b[0m\u001b[0m__getattribute__\u001b[0m\u001b[0;34m(\u001b[0m\u001b[0mself\u001b[0m\u001b[0;34m.\u001b[0m\u001b[0mvalue\u001b[0m\u001b[0;34m,\u001b[0m \u001b[0mname\u001b[0m\u001b[0;34m)\u001b[0m\u001b[0;34m\u001b[0m\u001b[0;34m\u001b[0m\u001b[0m\n\u001b[0;32m---> 76\u001b[0;31m         \u001b[0;32mreturn\u001b[0m \u001b[0msuper\u001b[0m\u001b[0;34m(\u001b[0m\u001b[0;34m)\u001b[0m\u001b[0;34m.\u001b[0m\u001b[0m__getattr__\u001b[0m\u001b[0;34m(\u001b[0m\u001b[0mname\u001b[0m\u001b[0;34m)\u001b[0m\u001b[0;34m\u001b[0m\u001b[0;34m\u001b[0m\u001b[0m\n\u001b[0m\u001b[1;32m     77\u001b[0m \u001b[0;34m\u001b[0m\u001b[0m\n\u001b[1;32m     78\u001b[0m \u001b[0;34m\u001b[0m\u001b[0m\n",
      "\u001b[0;31mAttributeError\u001b[0m: 'super' object has no attribute '__getattr__'"
     ]
    }
   ],
   "source": []
  },
  {
   "cell_type": "code",
   "execution_count": null,
   "metadata": {},
   "outputs": [],
   "source": []
  }
 ],
 "metadata": {
  "kernelspec": {
   "display_name": "base",
   "language": "python",
   "name": "python3"
  },
  "language_info": {
   "codemirror_mode": {
    "name": "ipython",
    "version": 3
   },
   "file_extension": ".py",
   "mimetype": "text/x-python",
   "name": "python",
   "nbconvert_exporter": "python",
   "pygments_lexer": "ipython3",
   "version": "3.9.13"
  },
  "orig_nbformat": 4,
  "vscode": {
   "interpreter": {
    "hash": "d733c53c25a36e33854a8263c46d4f732fe77946bdf8039c425bb5254e015fe4"
   }
  }
 },
 "nbformat": 4,
 "nbformat_minor": 2
}
